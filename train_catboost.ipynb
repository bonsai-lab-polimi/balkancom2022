{
 "cells": [
  {
   "cell_type": "code",
   "execution_count": null,
   "metadata": {},
   "outputs": [],
   "source": [
    "import pandas as pd\n",
    "import numpy as np\n",
    "from sklearn.model_selection import train_test_split\n",
    "from sklearn.isotonic import IsotonicRegression\n",
    "from catboost import CatBoostRegressor\n",
    "import matplotlib.pyplot as plt\n",
    "import scipy.stats as stats\n",
    "\n",
    "from utils import load_csv_from_folder, get_lightpath\n",
    "\n",
    "LOG_DIR = None\n",
    "SEED = 0\n",
    "RNG = np.random.default_rng(seed=SEED)"
   ]
  },
  {
   "cell_type": "code",
   "execution_count": null,
   "metadata": {},
   "outputs": [],
   "source": [
    "X, X_mean, X_sample, y_mean, y_std, y_quant, y, y_samples = load_csv_from_folder(\"./datasets/train/\", rng=RNG)\n",
    "X_test, X_mean_test, X_sample_test, y_mean_test, y_std_test, y_quant_test, y_test, y_samples_test = load_csv_from_folder(\"./datasets/test/\", rng=RNG)"
   ]
  },
  {
   "cell_type": "code",
   "execution_count": null,
   "metadata": {},
   "outputs": [],
   "source": [
    "X_sample_train, X_sample_val, y_samples_train, y_samples_val = train_test_split(X_sample, y_samples, random_state=SEED, test_size=0.1)"
   ]
  },
  {
   "cell_type": "code",
   "execution_count": null,
   "metadata": {},
   "outputs": [],
   "source": [
    "gbdt = CatBoostRegressor(loss_function=\"RMSEWithUncertainty\", iterations=1000, random_seed=SEED)\n",
    "gbdt.fit(X_sample_train, y_samples_train, eval_set=(X_sample_val, y_samples_val), verbose=0);"
   ]
  },
  {
   "cell_type": "code",
   "execution_count": null,
   "metadata": {},
   "outputs": [],
   "source": [
    "preds = gbdt.predict(X_sample)\n",
    "means, stds = preds[:, 0], np.sqrt(preds[:, 1])\n",
    "cdfs = stats.norm.cdf(y_samples, loc=means, scale=stds)\n",
    "# Build recalibration dataset as per Eq. (5)\n",
    "cal_x = np.sort(cdfs)\n",
    "cal_y = (np.array(range(len(cal_x))) + 1) / len(cal_x)\n",
    "# Fit isotonic regression for recalibrating the CDF and estimating quantiles\n",
    "r = IsotonicRegression(y_min=0, y_max=1, out_of_bounds='clip', increasing=True).fit(cal_x, cal_y)\n",
    "inverse_r = IsotonicRegression(y_min=0, y_max=1, out_of_bounds='clip', increasing=True).fit(cal_y, cal_x)\n",
    "\n",
    "plt.plot(cal_x, cal_y)\n",
    "plt.xlabel(\"Predicted Confidence\")\n",
    "plt.ylabel(\"Expected Confidence\")\n",
    "plt.grid(axis=\"both\", linewidth=0.3)\n",
    "plt.xticks(ticks=np.linspace(0, 1, 11))\n",
    "plt.yticks(ticks=np.linspace(0, 1, 11));"
   ]
  },
  {
   "cell_type": "code",
   "execution_count": null,
   "metadata": {},
   "outputs": [],
   "source": [
    "preds = gbdt.predict(X_test)\n",
    "means, stds = preds[:, 0], np.sqrt(preds[:, 1])\n",
    "cdfs = stats.norm.cdf(y_test, loc=means, scale=stds)\n",
    "cdfs_cal = r.transform(cdfs)\n",
    "\n",
    "plot_y = []\n",
    "plot_y_unc = []\n",
    "p = np.linspace(0, 1, 101)\n",
    "for quantile in p:\n",
    "    plot_y_unc.append(np.mean(cdfs <= quantile))\n",
    "    plot_y.append(np.mean(cdfs_cal <= quantile))\n",
    "\n",
    "cal_error_uncal = np.mean(np.abs(p[1:-1] - plot_y_unc[1:-1]))\n",
    "cal_error_recal = np.mean(np.abs(p[1:-1] - plot_y[1:-1]))\n",
    "\n",
    "plt.plot(p, plot_y_unc, label=\"Uncalibrated (UR)\")\n",
    "plt.plot(p, plot_y, label=\"Calibrated (CR)\")\n",
    "plt.plot(p, p, linestyle='dashed', label=\"Ideal\")\n",
    "plt.xlabel(\"Expected Confidence\")\n",
    "plt.ylabel(\"Predicted Confidence\")\n",
    "plt.grid(axis=\"both\", linewidth=0.3)\n",
    "plt.legend()\n",
    "plt.xticks(ticks=np.linspace(0, 1, 11))\n",
    "plt.yticks(ticks=np.linspace(0, 1, 11))\n",
    "#plt.savefig(\"./calibration_plot.pdf\", bbox_inches=\"tight\")\n",
    "\n",
    "print(f\"Mean Absolute Calibration Error for uncalibrated GBDT: {cal_error_uncal}\")\n",
    "print(f\"Mean Absolute Calibration Error for recalibrated GBDT: {cal_error_recal}\")"
   ]
  },
  {
   "cell_type": "code",
   "execution_count": null,
   "metadata": {},
   "outputs": [],
   "source": [
    "# Visualize predicted CDF and PDF w.r.t. empirical\n",
    "idxs_pred = np.array([0, 1800, 3600, 4400, 6200, 8000]) \n",
    "fig_cdf, axs_cdf = plt.subplots(2, 3, sharey='all', figsize=(15, 10))\n",
    "fig_pdf, axs_pdf = plt.subplots(2, 3, sharey='all', figsize=(15, 10))\n",
    "for i, idx_pred in enumerate(idxs_pred):\n",
    "    test_data = pd.read_csv(\"./datasets/test/test_2.csv\")\n",
    "    x_pred, y_pred = get_lightpath(test_data, idx_pred)\n",
    "    preds = gbdt.predict(x_pred)\n",
    "    means, stds = preds[0], np.sqrt(preds[1])\n",
    "    x_cdf = np.linspace(np.min(y_pred) - 5, np.max(y_pred) + 10, 1000)\n",
    "    x_ecdf = np.sort(y_pred)\n",
    "    y_ecdf = np.arange(len(x_ecdf))/float(len(x_ecdf))\n",
    "\n",
    "    x_pdf = np.linspace(np.min(y_pred) - 5, np.max(y_pred) + 10, 50)\n",
    "    pdf_cal_onesample = np.gradient(r.transform(stats.norm.cdf(x_pdf, loc=means, scale=stds)), x_pdf, edge_order=2)\n",
    "    pdf_uncal = np.gradient(stats.norm.cdf(x_pdf, loc=means, scale=stds), x_pdf)\n",
    "    pdf_uncal_onesample = np.gradient(stats.norm.cdf(x_pdf, loc=means, scale=stds), x_pdf)\n",
    "    \n",
    "    axs_pdf.flat[i].plot(x_pdf, pdf_uncal_onesample, label=\"UR\")\n",
    "    axs_pdf.flat[i].plot(x_pdf, pdf_cal_onesample, label=\"CR\")\n",
    "    axs_pdf.flat[i].hist(y_pred, density=True, alpha=0.4, color='grey', label=\"Empirical\")\n",
    "    fig_pdf.legend([\"UR\", \"CR\", \"Empirical\"], loc='upper center')\n",
    "\n",
    "    axs_cdf.flat[i].plot(x_cdf, stats.norm.cdf(x_cdf, loc=means, scale=stds));\n",
    "    axs_cdf.flat[i].plot(x_cdf, r.transform(stats.norm.cdf(x_cdf, loc=means, scale=stds)));\n",
    "    axs_cdf.flat[i].grid(axis=\"both\", linewidth=0.3)\n",
    "    axs_cdf.flat[i].plot(x_ecdf, y_ecdf, label=\"Empirical\")\n",
    "    fig_cdf.legend([\"UR\", \"CR\", \"Empirical\"], loc='upper center')"
   ]
  },
  {
   "cell_type": "code",
   "execution_count": null,
   "metadata": {},
   "outputs": [],
   "source": [
    "# Estimate quantiles\n",
    "quintiles = [0.1, 0.2, 0.3, 0.4, 0.5, 0.6, 0.7, 0.8, 0.9]\n",
    "cal_quintiles = inverse_r.transform(quintiles)\n",
    "x = np.linspace(np.min(y_test), np.max(y_test), 10000)\n",
    "preds_uncal = gbdt.predict(X_mean_test)\n",
    "means_uncal, stds_uncal = preds_uncal[:, 0], np.sqrt(preds_uncal[:, 1])\n",
    "rmse_unc = []\n",
    "rmse_cal = []\n",
    "for i, (q, q_cal) in enumerate(zip(quintiles, cal_quintiles)):\n",
    "    quantiles_unc_estimates = stats.norm.ppf(q, loc=means_uncal, scale=stds_uncal)\n",
    "    quantiles_estimates = stats.norm.ppf(q_cal, loc=means_uncal, scale=stds_uncal)\n",
    "    print(f\"Uncalibrated RMSE for {q*100}-th quantile: {np.sqrt(np.mean(np.square(np.array(quantiles_unc_estimates) - y_quant_test[:, i])))}\")\n",
    "    print(f\"Calibrated RMSE for {q*100}-th quantile: {np.sqrt(np.mean(np.square(np.array(quantiles_estimates) - y_quant_test[:, i])))}\")\n",
    "    rmse_unc.append(np.sqrt(np.mean(np.square(np.array(quantiles_unc_estimates) - y_quant_test[:, i]))))\n",
    "    rmse_cal.append(np.sqrt(np.mean(np.square(np.array(quantiles_estimates) - y_quant_test[:, i]))))\n",
    "# quantiles_rmse = np.concatenate([np.array(rmse_unc).reshape(-1, 1), np.array(rmse_cal).reshape(-1, 1)], axis=1)\n",
    "# np.savetxt(LOG_DIR + f\"quantiles/{SEED}.txt\", quantiles_rmse)"
   ]
  },
  {
   "cell_type": "code",
   "execution_count": null,
   "metadata": {},
   "outputs": [],
   "source": [
    "# Estimate quantiles via quantile regression\n",
    "quintiles = [0.1, 0.2, 0.3, 0.4, 0.5, 0.6, 0.7, 0.8, 0.9]\n",
    "rmse_qr = []\n",
    "for i, q in enumerate(quintiles):\n",
    "    gbdt_qr = CatBoostRegressor(loss_function=f\"Quantile:alpha={q}\", iterations=1000, random_seed=SEED)\n",
    "    gbdt_qr.fit(X_sample_train, y_samples_train, eval_set=(X_sample_val, y_samples_val), verbose=0)\n",
    "    preds_qr = gbdt_qr.predict(X_mean_test)\n",
    "    print(f\"Quantile Regression RMSE for {q*100}-th quantile: {np.sqrt(np.mean(np.square(np.array(preds_qr) - y_quant_test[:, i])))}\")\n",
    "    rmse_qr.append(np.sqrt(np.mean(np.square(np.array(preds_qr) - y_quant_test[:, i]))))\n",
    "# np.savetxt(LOG_DIR + f\"quantile_regression/{SEED}.txt\", np.array(rmse_qr))"
   ]
  }
 ],
 "metadata": {
  "kernelspec": {
   "display_name": "Python 3.10.6 ('ml')",
   "language": "python",
   "name": "python3"
  },
  "language_info": {
   "codemirror_mode": {
    "name": "ipython",
    "version": 3
   },
   "file_extension": ".py",
   "mimetype": "text/x-python",
   "name": "python",
   "nbconvert_exporter": "python",
   "pygments_lexer": "ipython3",
   "version": "3.10.6"
  },
  "orig_nbformat": 4,
  "vscode": {
   "interpreter": {
    "hash": "338f2d5e48ae6fe4cbc12f0a080774b2d1d5b263ebe38d0587f47e4228b2561d"
   }
  }
 },
 "nbformat": 4,
 "nbformat_minor": 2
}
